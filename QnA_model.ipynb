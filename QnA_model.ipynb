{
 "cells": [
  {
   "cell_type": "code",
   "execution_count": 1,
   "id": "791fecdc-79ef-44e0-a5d2-657a70cfaa50",
   "metadata": {},
   "outputs": [],
   "source": [
    "import torch"
   ]
  },
  {
   "cell_type": "code",
   "execution_count": 2,
   "id": "f3db3f57-8f33-4a94-96e5-a932fc4d3d90",
   "metadata": {},
   "outputs": [],
   "source": [
    "import pandas as pd"
   ]
  },
  {
   "cell_type": "code",
   "execution_count": 3,
   "id": "8af5ab51-da6f-476c-9c8e-ff0674aab7bb",
   "metadata": {},
   "outputs": [],
   "source": [
    "data = pd.read_csv('qa_dataset.csv')"
   ]
  },
  {
   "cell_type": "code",
   "execution_count": 4,
   "id": "ee41993f-da88-4d7d-b5e4-5831d445907f",
   "metadata": {},
   "outputs": [],
   "source": [
    "def tokenize(text,question = True):\n",
    "    if not question:\n",
    "        return list(text.replace(' ','').split())\n",
    "    text = text.lower()\n",
    "    text = text.replace('?','')\n",
    "    return text.split()"
   ]
  },
  {
   "cell_type": "code",
   "execution_count": 5,
   "id": "d7862e6d-43e2-4fd0-a9f2-2fcb56e57574",
   "metadata": {},
   "outputs": [
    {
     "data": {
      "text/plain": [
       "['what', 'is', 'the', 'capital', 'of', 'canada']"
      ]
     },
     "execution_count": 5,
     "metadata": {},
     "output_type": "execute_result"
    }
   ],
   "source": [
    "import random\n",
    "tokenize(data['question'][81])"
   ]
  },
  {
   "cell_type": "code",
   "execution_count": 6,
   "id": "5385a6e8-ffa5-422a-a493-9937e2391d62",
   "metadata": {},
   "outputs": [],
   "source": [
    "vocab = {'<unk>':0}\n",
    "for q,a in zip(data['question'],data['answer']):\n",
    "    tokenized_q = tokenize(q)\n",
    "    tokenized_a = str(a)\n",
    "    if isinstance(a,str):\n",
    "     tokenized_a = tokenize(a,False)\n",
    "    for word in tokenized_q+tokenized_a :\n",
    "        if word not in vocab.keys():\n",
    "            vocab[word] = len(vocab)"
   ]
  },
  {
   "cell_type": "code",
   "execution_count": 7,
   "id": "1c49766b-7f73-4be3-a91f-b3b32949ca02",
   "metadata": {},
   "outputs": [],
   "source": [
    "def text_to_indices(text,vocab,question=True):\n",
    "    t_to_id = []\n",
    "    if not question:\n",
    "        tokenized_text = str(text)\n",
    "        tokenized_text = tokenize(text,False)\n",
    "    else:\n",
    "        tokenized_text = tokenize(text)\n",
    "    for t in tokenized_text:\n",
    "        if t in vocab.keys(): \n",
    "            t_to_id.append(vocab[t])\n",
    "        else:\n",
    "            t_to_id.append(vocab['<unk>'])\n",
    "    return t_to_id"
   ]
  },
  {
   "cell_type": "code",
   "execution_count": 8,
   "id": "6ab8ad6a-70f1-436f-86c8-fa735dac2574",
   "metadata": {},
   "outputs": [
    {
     "data": {
      "text/plain": [
       "('What is the capital of Nigeria?', [15, 204, 3, 150, 40, 300])"
      ]
     },
     "execution_count": 8,
     "metadata": {},
     "output_type": "execute_result"
    }
   ],
   "source": [
    "data['question'][109],text_to_indices(data['question'][109],vocab)"
   ]
  },
  {
   "cell_type": "code",
   "execution_count": 9,
   "id": "f427effa-9629-4b58-985b-35a91e052d97",
   "metadata": {},
   "outputs": [],
   "source": [
    "from torch.utils.data import Dataset, DataLoader"
   ]
  },
  {
   "cell_type": "code",
   "execution_count": 10,
   "id": "92d6db64-bb77-4018-88a0-799bad823740",
   "metadata": {},
   "outputs": [],
   "source": [
    "class Custom_Dataset(Dataset):\n",
    "    def __init__(self,data,vocab):\n",
    "        super().__init__()\n",
    "        self.data = data\n",
    "        self.vocab = vocab\n",
    "    def __len__(self):\n",
    "        return self.data.shape[0]\n",
    "    def __getitem__(self,index):\n",
    "        text_to_id_question = text_to_indices(self.data['question'][index],self.vocab)\n",
    "        text_to_id_answer = text_to_indices(self.data['answer'][index],self.vocab, False)\n",
    "        return torch.tensor(text_to_id_question) , torch.tensor(text_to_id_answer)"
   ]
  },
  {
   "cell_type": "code",
   "execution_count": 12,
   "id": "a38e0b03-6897-4a36-bbbe-42f2e991404e",
   "metadata": {},
   "outputs": [
    {
     "data": {
      "text/plain": [
       "(tensor([ 15, 204,   3, 150,  40, 300]), tensor([301]))"
      ]
     },
     "execution_count": 12,
     "metadata": {},
     "output_type": "execute_result"
    }
   ],
   "source": [
    "dataset = Custom_Dataset(data,vocab)\n",
    "dataset[109]"
   ]
  },
  {
   "cell_type": "code",
   "execution_count": 13,
   "id": "14346971-0208-4cd3-9f52-c7e2986ed0a5",
   "metadata": {},
   "outputs": [
    {
     "data": {
      "text/plain": [
       "(<torch.utils.data.dataloader.DataLoader at 0x249d8775590>, 200)"
      ]
     },
     "execution_count": 13,
     "metadata": {},
     "output_type": "execute_result"
    }
   ],
   "source": [
    "# dataloader : \n",
    "dataloader = DataLoader(dataset=dataset, batch_size=1, shuffle=True)\n",
    "dataloader,len(dataloader)"
   ]
  },
  {
   "cell_type": "code",
   "execution_count": 14,
   "id": "6ae66c01-3b8b-4ed0-aecd-e9827166e157",
   "metadata": {},
   "outputs": [],
   "source": [
    "# rnn architecture  :  embeddings = 60, hidden layers = 1 , hidden_neurons = 128, output_neurons = vocab_size\n",
    "# Each index in the input tensor is embedded into a vector of 60 length \n",
    "import torch.nn as nn"
   ]
  },
  {
   "cell_type": "code",
   "execution_count": 15,
   "id": "6261d2bb-fbdb-4a68-8f55-1ff312aba1a1",
   "metadata": {},
   "outputs": [],
   "source": [
    "class simpleRNN(nn.Module):\n",
    "    def __init__(self,embedding,hidden,vocab_size):\n",
    "        super().__init__()\n",
    "        self.vocab = vocab_size\n",
    "        self.embd = nn.Embedding(num_embeddings = self.vocab , embedding_dim = embedding)\n",
    "        self.rnn = nn.RNN(input_size = embedding , hidden_size =  hidden, batch_first=  True)    # sequential layer can't be used...\n",
    "        self.out = nn.Linear(hidden,self.vocab)\n",
    "    def forward(self,text):\n",
    "        x = self.embd(text)\n",
    "        hidden_states , final_hidden_state = self.rnn(x)\n",
    "        return self.out(final_hidden_state.squeeze(0))"
   ]
  },
  {
   "cell_type": "code",
   "execution_count": 16,
   "id": "c694405a-1ffd-44a6-97fe-e7f21ee691e2",
   "metadata": {
    "scrolled": true
   },
   "outputs": [],
   "source": [
    "torch.manual_seed(42)\n",
    "rnn_model = simpleRNN(60,128,len(vocab))"
   ]
  },
  {
   "cell_type": "code",
   "execution_count": 22,
   "id": "e27231b3-2a5a-4fde-8bc2-28886bc58cb4",
   "metadata": {},
   "outputs": [],
   "source": [
    "loss_fun = nn.CrossEntropyLoss()\n",
    "optimizer = torch.optim.Adam(params = rnn_model.parameters(), lr = 0.001)"
   ]
  },
  {
   "cell_type": "code",
   "execution_count": 23,
   "id": "d99f0c03-c4ac-42a1-941c-847774f19fc6",
   "metadata": {},
   "outputs": [
    {
     "name": "stdout",
     "output_type": "stream",
     "text": [
      "Epoch : 1 | train_loss : 6.222723007202148\n",
      "Epoch : 2 | train_loss : 4.649641513824463\n",
      "Epoch : 3 | train_loss : 3.255985975265503\n",
      "Epoch : 4 | train_loss : 2.0758237838745117\n",
      "Epoch : 5 | train_loss : 1.1657018661499023\n",
      "Epoch : 6 | train_loss : 0.6397266387939453\n",
      "Epoch : 7 | train_loss : 0.37333792448043823\n",
      "Epoch : 8 | train_loss : 0.22717109322547913\n",
      "Epoch : 9 | train_loss : 0.1427544355392456\n",
      "Epoch : 10 | train_loss : 0.09989340603351593\n",
      "Epoch : 11 | train_loss : 0.07350881397724152\n",
      "Epoch : 12 | train_loss : 0.05490255728363991\n",
      "Epoch : 13 | train_loss : 0.04388480260968208\n",
      "Epoch : 14 | train_loss : 0.03585062175989151\n",
      "Epoch : 15 | train_loss : 0.02969992160797119\n",
      "Epoch : 16 | train_loss : 0.024778805673122406\n",
      "Epoch : 17 | train_loss : 0.021046902984380722\n",
      "Epoch : 18 | train_loss : 0.01791607402265072\n",
      "Epoch : 19 | train_loss : 0.01544689666479826\n",
      "Epoch : 20 | train_loss : 0.013357547111809254\n"
     ]
    }
   ],
   "source": [
    "epochs = 20\n",
    "rnn_model.train()\n",
    "for epoch in range(epochs):\n",
    "    epoch_loss = 0\n",
    "    for data in dataloader:\n",
    "        optimizer.zero_grad()\n",
    "        pred = rnn_model(data[0])\n",
    "        # print(pred.shape)\n",
    "        # print(data[1].shape)\n",
    "        loss = loss_fun(pred,data[1].squeeze(0))\n",
    "        epoch_loss += loss\n",
    "        loss.backward()\n",
    "        optimizer.step()\n",
    "    print(f'Epoch : {epoch+1} | train_loss : {epoch_loss/len(dataloader)}')"
   ]
  },
  {
   "cell_type": "code",
   "execution_count": 54,
   "id": "bb665d1e-0dd5-412a-a5ed-c5aac555916a",
   "metadata": {},
   "outputs": [],
   "source": [
    "def predict(question,threshold = 0.1):\n",
    "    tensor_input = torch.tensor(text_to_indices(question,vocab))\n",
    "    pred_logits = rnn_model(tensor_input.unsqueeze(dim=0))\n",
    "    pred_probs = nn.functional.softmax(pred_logits,dim=1)\n",
    "    max_prob , prediction = torch.max(pred_probs,dim=1)\n",
    "    print(f'max probability : {max_prob.item()}')\n",
    "    if max_prob.item() < threshold:\n",
    "        return 'No idea...'\n",
    "    return list(vocab.keys())[prediction]"
   ]
  },
  {
   "cell_type": "code",
   "execution_count": 55,
   "id": "2ca7cf54-15d6-4536-b7c5-2857ed1d57ce",
   "metadata": {},
   "outputs": [
    {
     "name": "stdout",
     "output_type": "stream",
     "text": [
      "max probability : 0.9454696774482727\n"
     ]
    },
    {
     "data": {
      "text/plain": [
       "'Kidney'"
      ]
     },
     "execution_count": 55,
     "metadata": {},
     "output_type": "execute_result"
    }
   ],
   "source": [
    "predict(\"Organ that filters blood?\")"
   ]
  }
 ],
 "metadata": {
  "kernelspec": {
   "display_name": "Python 3",
   "language": "python",
   "name": "python3"
  },
  "language_info": {
   "codemirror_mode": {
    "name": "ipython",
    "version": 3
   },
   "file_extension": ".py",
   "mimetype": "text/x-python",
   "name": "python",
   "nbconvert_exporter": "python",
   "pygments_lexer": "ipython3",
   "version": "3.11.4"
  },
  "widgets": {
   "application/vnd.jupyter.widget-state+json": {
    "state": {},
    "version_major": 2,
    "version_minor": 0
   }
  }
 },
 "nbformat": 4,
 "nbformat_minor": 5
}
